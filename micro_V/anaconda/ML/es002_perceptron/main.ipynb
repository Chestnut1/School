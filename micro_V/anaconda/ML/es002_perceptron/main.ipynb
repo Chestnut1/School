{
 "cells": [
  {
   "cell_type": "code",
   "execution_count": 1,
   "metadata": {},
   "outputs": [
    {
     "name": "stdout",
     "output_type": "stream",
     "text": [
      "errori durante l'addestramento [2, 3, 3, 0, 0, 0, 0, 0, 0, 0]\n",
      "pesi [-0.2  0.2  0.1]\n",
      "caso 0 1-> 0\n"
     ]
    }
   ],
   "source": [
    "import numpy as np\n",
    "\n",
    "class Perceptron(object):\n",
    "    \"\"\" Implements a perceptron network\n",
    "        ---Parameters---\n",
    "        input_size : int, number of input\n",
    "        lr=1       : real, learning rate\n",
    "        epochs=10  : int, number of epochs\n",
    "        ---Attributes---\n",
    "        W          : 1d-array Weights\n",
    "        epochs     : int, number of epochs\n",
    "        lr         : real, learning rate\n",
    "        errors     : list, number of misclassifications in each epoch.\n",
    "    \"\"\"\n",
    "    def __init__(self, input_size, lr=0.1, epochs=10):\n",
    "        self.epochs = epochs\n",
    "        self.lr = lr \n",
    "        #inizializzazione a 0 dei pesi, si può anche dare un valore random\n",
    "        self.W = np.zeros(input_size+1) # ne aggiunge uno per il bias\n",
    "        \n",
    "    def activation_fn(self, q):\n",
    "        return 1 if q >= 0 else 0 #funzione di attivazione a scalino\n",
    "    \n",
    "    def predict(self, x):      \n",
    "        q = (self.W * x).sum()     #somma dei prodotti pesi * input\n",
    "        p = self.activation_fn(q)  #applico la funzione di attivazione\n",
    "        return p\n",
    "    \n",
    "    def fit(self, X, y):\n",
    "        ''' X vettore di input\n",
    "            y vettore degli output desiderati'''\n",
    "\n",
    "        self.errors = [] #serve per capire quando ha appreso\n",
    "\n",
    "        for _ in range(self.epochs): #esegue l'addestramento per le epoche indicate\n",
    "            err = 0    \n",
    "            for i in range(y.shape[0]):           #numero di casi\n",
    "                #print(\"\\npesi:\", self.W)\n",
    "                x = np.concatenate(([1], X[i]))   #aggiunge l'input per il bias = 1\n",
    "                p = self.predict(x)               #calcola gli output\n",
    "                e = y[i] - p                      #calcola l'errore\n",
    "                #print(\"input\",x)\n",
    "                #print (\"pred\", p,\"errore\", e)\n",
    "                #aggiusta i pesi applicando la regola di aggiornamento\n",
    "                self.W = self.W + self.lr * e * x                \n",
    "                err += int(e != 0.0)             #conta gli errori                \n",
    "\n",
    "            #aggiunge il numero di errori commessi in questa epoca\n",
    "            self.errors.append(err)\n",
    "\n",
    "#addestriamolo per l'AND\n",
    "X = np.array([\n",
    "    [0, 0],\n",
    "    [0, 1],\n",
    "    [1, 0],\n",
    "    [1, 1]\n",
    "])\n",
    "y = np.array([0, 0, 0, 1])\n",
    "\n",
    "perceptron = Perceptron(input_size=2)\n",
    "perceptron.fit(X, y)\n",
    "print(\"errori durante l'addestramento\", perceptron.errors)\n",
    "print(\"pesi\", perceptron.W)\n",
    "print(\"caso 0 1->\", perceptron.predict([1,0,1]))  #aggiunto 1 per il bias"
   ]
  },
  {
   "cell_type": "code",
   "execution_count": null,
   "metadata": {},
   "outputs": [],
   "source": []
  }
 ],
 "metadata": {
  "kernelspec": {
   "display_name": "Python 3",
   "language": "python",
   "name": "python3"
  },
  "language_info": {
   "codemirror_mode": {
    "name": "ipython",
    "version": 3
   },
   "file_extension": ".py",
   "mimetype": "text/x-python",
   "name": "python",
   "nbconvert_exporter": "python",
   "pygments_lexer": "ipython3",
   "version": "3.8.5"
  }
 },
 "nbformat": 4,
 "nbformat_minor": 4
}
