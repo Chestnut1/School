{
 "cells": [
  {
   "cell_type": "code",
   "execution_count": 8,
   "metadata": {},
   "outputs": [
    {
     "ename": "IndentationError",
     "evalue": "expected an indented block (<ipython-input-8-4d218201c617>, line 15)",
     "output_type": "error",
     "traceback": [
      "\u001b[1;36m  File \u001b[1;32m\"<ipython-input-8-4d218201c617>\"\u001b[1;36m, line \u001b[1;32m15\u001b[0m\n\u001b[1;33m    labels[c] = np.sort(X[c].unique())#valori ordinati\u001b[0m\n\u001b[1;37m    ^\u001b[0m\n\u001b[1;31mIndentationError\u001b[0m\u001b[1;31m:\u001b[0m expected an indented block\n"
     ]
    }
   ],
   "source": [
    "import pandas as pd\n",
    "df = pd.read_csv(\"alberoDecisionaleClick.csv\", sep=';')#per default sep=','\n",
    "#creiamo X e y\n",
    "y = df['click']\n",
    "print(y)\n",
    "X = df.drop(['click'], axis=1)\n",
    "df\n",
    "\n",
    "#Converto i valori stringa dei dati in valori numerici utilizzando dei vettori\n",
    "#contenenti i valori distinti per ciascuna colonna.\n",
    "import numpy as np\n",
    "#creo un dizionario di colonna - array di etichette\n",
    "labels = {}\n",
    "for c in X.columns:\n",
    "    labels[c] = np.sort(X[c].unique())#valori ordinati\n",
    "    print(labels)\n",
    "    for c in X.columns:\n",
    "    for i, val in enumerate(labels[c]):\n",
    "        X[c] = X[c].replace(val, i)#assegno valore numerico in base al loro valore stringa X\n",
    "\n",
    "        #non suddivido i dati\n",
    "        X_train = X\n",
    "        y_train = y\n",
    "        from sklearn.tree import DecisionTreeClassifier\n",
    "        from sklearn import tree\n",
    "        model = DecisionTreeClassifier(max_depth=2, min_samples_split=2)\n",
    "        model.fit(X_train, y_train)\n",
    "        print(model)\n",
    "        fig, ax = plt.subplots(figsize=(5, 5)) # per dimensionare la finestra di visualizzazione\n",
    "        tree.plot_tree(model, fontsize=12, feature_names=X_train.columns,\n",
    "        class_names=['no','yes'], filled = True,\n",
    "        impurity=True, rounded=True, precision=3)\n",
    "        print(labels)"
   ]
  },
  {
   "cell_type": "code",
   "execution_count": null,
   "metadata": {},
   "outputs": [],
   "source": []
  }
 ],
 "metadata": {
  "kernelspec": {
   "display_name": "Python 3",
   "language": "python",
   "name": "python3"
  },
  "language_info": {
   "codemirror_mode": {
    "name": "ipython",
    "version": 3
   },
   "file_extension": ".py",
   "mimetype": "text/x-python",
   "name": "python",
   "nbconvert_exporter": "python",
   "pygments_lexer": "ipython3",
   "version": "3.8.5"
  }
 },
 "nbformat": 4,
 "nbformat_minor": 4
}
