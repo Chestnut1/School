{
 "cells": [
  {
   "cell_type": "code",
   "execution_count": null,
   "metadata": {},
   "outputs": [],
   "source": [
    "import numpy as np\n",
    "\n",
    "class Perceptron(object):\n",
    "    \n",
    "    \"\"\" Implements a perceptron network\n",
    "        ---Parameters---\n",
    "        input_size : int, number of input\n",
    "        lr=1       : real, learning rate\n",
    "        epochs=10  : int, number of epochs\n",
    "        ---Attributes---\n",
    "        W          : 1d-array Weights\n",
    "        epochs     : int, number of epochs\n",
    "        lr         : real, learning rate\n",
    "        errors     : list, number of misclassifications in each epoch.\n",
    "    \"\"\"\n",
    "    \n",
    "    def __init__(self, input_size, lr=0.1, epochs=10):    #lr per default 0,1\n",
    "        self.epochs = epochs\n",
    "        self.lr = lr \n",
    "        #inizializzazione a 0 dei pesi, si può anche dare un valore random\n",
    "        self.W = np.zeros(input_size+1) # ne aggiunge uno per il bias\n",
    "        \n",
    "    def activation_fn(self, q):\n",
    "        return 1 if q >= 0 else 0 #funzione di attivazione a scalino\n",
    "        \n",
    "        \n",
    "\n",
    "        \n",
    "        \n",
    "X = np.array([\n",
    "    [0,0],\n",
    "    [0,1],\n",
    "    [1,0],\n",
    "    [1,1]\n",
    "])      \n",
    "\n",
    "y = np.array([0,0,0,1])\n",
    "\n",
    "perceptron = Perceptron(input_size = 2)\n",
    "\n",
    "perceptron.fit(X,y)\n",
    "\n",
    "print(\"errori durante l'addestramento: \" + perceptron.errors)\n",
    "print(\"pesi: \" + perceptron.W)\n",
    "print(\"caso 0,1 \" + perceptron.predict([1,0,1]))   #aggiunto 1 per il bias"
   ]
  }
 ],
 "metadata": {
  "kernelspec": {
   "display_name": "Python 3",
   "language": "python",
   "name": "python3"
  },
  "language_info": {
   "codemirror_mode": {
    "name": "ipython",
    "version": 3
   },
   "file_extension": ".py",
   "mimetype": "text/x-python",
   "name": "python",
   "nbconvert_exporter": "python",
   "pygments_lexer": "ipython3",
   "version": "3.8.5"
  }
 },
 "nbformat": 4,
 "nbformat_minor": 4
}
