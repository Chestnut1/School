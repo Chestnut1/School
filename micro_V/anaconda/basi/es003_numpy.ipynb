{
 "cells": [
  {
   "cell_type": "markdown",
   "metadata": {},
   "source": [
    "# NUMPY\n",
    "\n",
    "Numpy è una libreria che serve per gestire i vettori in modo efficiente. Possono essere:\n",
    "- **MONODIMENSIONALI** : come un vettore\n",
    "\n",
    "- **BIDIMENSIONALE** : come una matrice\n",
    "\n",
    "- **MULTIDIMENSIONALI** : come i *tensori*\n",
    "\n",
    "e così via\n",
    "\n",
    "in mumpy si parla di ND-array _Multi Dimensional Array_\n",
    "\n",
    "Ogni dimensione è un **ASSE**.\n",
    "\n",
    "es = [[[1,2],[3,4],[4,5]], [[6,7],[8,9],[10,10]]] ha **forma = 2,3,2**. La **forma** indica in numero di elementi per dimensione.\n",
    "\n",
    "> Numpy è necessario perchè in python le liste occupano uno sfracco di memoria, e sono inefficienti. Devo memorizzare troppe \n",
    "> infromazioni. Gli array di Numpy invece sono a dimensione fissa e devono essere tutti dello stesso tipo.\n",
    "\n",
    "Array di numpy:\n",
    "- sono immutabili\n",
    "- devono avere lo stesso tipo\n",
    "\n",
    "Tipi di Numpy:\n",
    "- **bool**\n",
    "- **int** \n",
    "- **uint**: (unsigned int), quelli senza segno\n",
    "- **float**\n",
    "- **datetime64** data e ora a partire dal 1-1-1970\n",
    "- **string**\n",
    "- **object**"
   ]
  },
  {
   "cell_type": "code",
   "execution_count": 1,
   "metadata": {},
   "outputs": [
    {
     "name": "stdout",
     "output_type": "stream",
     "text": [
      "[1 2 3]\n",
      "[1. 2. 3.]\n",
      "[0. 1. 2. 3. 4. 5. 6. 7. 8. 9.]\n",
      "[4 6 8]\n",
      "[ 0.   2.5  5.   7.5 10. ]\n"
     ]
    }
   ],
   "source": [
    "import numpy as np\n",
    "\n",
    "a1 = np.array((1,2,3))           #array da tupla\n",
    "a2 = np.array([1,2,3], float)    #array da lista con specifica del tipo\n",
    "a3 = np.arange(10, dtype=float)  #crea numeri [0,9), dtype specifica il tipo\n",
    "a4 = np.arange(4,10,2)           #crea numeri [4,10), con passo di 2\n",
    "a5 = np.linspace(0,10,5)         #crea numeri da 0 a 10, con numeri equamente distanti l'uno dall'altro\n",
    "\n",
    "print(a1)\n",
    "print(a2)\n",
    "print(a3)\n",
    "print(a4)\n",
    "print(a5)"
   ]
  },
  {
   "cell_type": "code",
   "execution_count": 2,
   "metadata": {},
   "outputs": [
    {
     "name": "stdout",
     "output_type": "stream",
     "text": [
      "[0 0 0 0 0]\n",
      "[1. 1. 1. 1. 1.]\n",
      "[[0. 0. 0.]\n",
      " [0. 0. 0.]]\n",
      "[[3. 3. 3.]\n",
      " [3. 3. 3.]]\n"
     ]
    }
   ],
   "source": [
    "a6 = np.zeros(5, dtype = np.uint)       #array di 0 con specifica di tipo\n",
    "a7 = np.ones(5)                          #array di 1 con defaultfloat64\n",
    "a8 = np.zeros((2,3))                      #array di 0 con specifica di tipo\n",
    "\n",
    "print(a6)\n",
    "print(a7)\n",
    "print(a8)\n",
    "\n",
    "a8.fill(3)\n",
    "\n",
    "print(a8)"
   ]
  },
  {
   "cell_type": "code",
   "execution_count": 4,
   "metadata": {},
   "outputs": [
    {
     "ename": "AttributeError",
     "evalue": "module 'numpy' has no attribute 'rand'",
     "output_type": "error",
     "traceback": [
      "\u001b[1;31m---------------------------------------------------------------------------\u001b[0m",
      "\u001b[1;31mAttributeError\u001b[0m                            Traceback (most recent call last)",
      "\u001b[1;32m<ipython-input-4-8b4f1de5ad73>\u001b[0m in \u001b[0;36m<module>\u001b[1;34m\u001b[0m\n\u001b[1;32m----> 1\u001b[1;33m \u001b[0mmat1\u001b[0m \u001b[1;33m=\u001b[0m \u001b[0mnp\u001b[0m\u001b[1;33m.\u001b[0m\u001b[0mrand\u001b[0m\u001b[1;33m(\u001b[0m\u001b[1;36m2\u001b[0m\u001b[1;33m,\u001b[0m\u001b[1;36m3\u001b[0m\u001b[1;33m)\u001b[0m                         \u001b[1;31m#matrice 2x3 di valori casuali reali [0,1]\u001b[0m\u001b[1;33m\u001b[0m\u001b[1;33m\u001b[0m\u001b[0m\n\u001b[0m\u001b[0;32m      2\u001b[0m \u001b[0mmat2\u001b[0m \u001b[1;33m=\u001b[0m \u001b[0mnp\u001b[0m\u001b[1;33m.\u001b[0m\u001b[0mrandn\u001b[0m\u001b[1;33m(\u001b[0m\u001b[1;36m2\u001b[0m\u001b[1;33m,\u001b[0m\u001b[1;36m3\u001b[0m\u001b[1;33m)\u001b[0m                        \u001b[1;31m#matrice 2x3 di valori casuali reali [-1,1]\u001b[0m\u001b[1;33m\u001b[0m\u001b[1;33m\u001b[0m\u001b[0m\n\u001b[0;32m      3\u001b[0m \u001b[0mmat3\u001b[0m \u001b[1;33m=\u001b[0m \u001b[0mnp\u001b[0m\u001b[1;33m.\u001b[0m\u001b[0mrandom\u001b[0m\u001b[1;33m.\u001b[0m\u001b[0mrandint\u001b[0m\u001b[1;33m(\u001b[0m\u001b[1;36m1\u001b[0m\u001b[1;33m,\u001b[0m\u001b[1;36m7\u001b[0m\u001b[1;33m,\u001b[0m \u001b[0msize\u001b[0m \u001b[1;33m=\u001b[0m \u001b[1;33m(\u001b[0m\u001b[1;36m2\u001b[0m\u001b[1;33m,\u001b[0m\u001b[1;36m3\u001b[0m\u001b[1;33m)\u001b[0m\u001b[1;33m)\u001b[0m\u001b[1;33m\u001b[0m\u001b[1;33m\u001b[0m\u001b[0m\n\u001b[0;32m      4\u001b[0m \u001b[1;33m\u001b[0m\u001b[0m\n\u001b[0;32m      5\u001b[0m \u001b[0mprint\u001b[0m\u001b[1;33m(\u001b[0m\u001b[0mmat1\u001b[0m\u001b[1;33m)\u001b[0m\u001b[1;33m\u001b[0m\u001b[1;33m\u001b[0m\u001b[0m\n",
      "\u001b[1;32m~\\anaconda3\\lib\\site-packages\\numpy\\__init__.py\u001b[0m in \u001b[0;36m__getattr__\u001b[1;34m(attr)\u001b[0m\n\u001b[0;32m    212\u001b[0m                 \u001b[1;32mreturn\u001b[0m \u001b[0mTester\u001b[0m\u001b[1;33m\u001b[0m\u001b[1;33m\u001b[0m\u001b[0m\n\u001b[0;32m    213\u001b[0m             \u001b[1;32melse\u001b[0m\u001b[1;33m:\u001b[0m\u001b[1;33m\u001b[0m\u001b[1;33m\u001b[0m\u001b[0m\n\u001b[1;32m--> 214\u001b[1;33m                 raise AttributeError(\"module {!r} has no attribute \"\n\u001b[0m\u001b[0;32m    215\u001b[0m                                      \"{!r}\".format(__name__, attr))\n\u001b[0;32m    216\u001b[0m \u001b[1;33m\u001b[0m\u001b[0m\n",
      "\u001b[1;31mAttributeError\u001b[0m: module 'numpy' has no attribute 'rand'"
     ]
    }
   ],
   "source": [
    "mat1 = np.rand(2,3)                         #matrice 2x3 di valori casuali reali [0,1]\n",
    "mat2 = np.randn(2,3)                        #matrice 2x3 di valori casuali reali [-1,1]\n",
    "mat3 = np.random.randint(1,7, size = (2,3))\n",
    "\n",
    "print(mat1)\n",
    "print(mat2)\n",
    "print(mat3)"
   ]
  },
  {
   "cell_type": "markdown",
   "metadata": {},
   "source": [
    "# Distribuzioe gaussiana dei numeri o normale\n",
    "Se utilizzo la funziona randn() avrò una distribuzione maggiore sullo zero. \n",
    "## DEVIAZIONE STANDARD\n"
   ]
  },
  {
   "cell_type": "code",
   "execution_count": 5,
   "metadata": {},
   "outputs": [
    {
     "name": "stdout",
     "output_type": "stream",
     "text": [
      "[[[  1   2]\n",
      "  [ 10  20]\n",
      "  [100 200]]]\n"
     ]
    },
    {
     "ename": "NameError",
     "evalue": "name 'arra1' is not defined",
     "output_type": "error",
     "traceback": [
      "\u001b[1;31m---------------------------------------------------------------------------\u001b[0m",
      "\u001b[1;31mNameError\u001b[0m                                 Traceback (most recent call last)",
      "\u001b[1;32m<ipython-input-5-dcf174f28103>\u001b[0m in \u001b[0;36m<module>\u001b[1;34m\u001b[0m\n\u001b[0;32m      9\u001b[0m \u001b[0marray2\u001b[0m \u001b[1;33m=\u001b[0m \u001b[0mndarray\u001b[0m\u001b[1;33m.\u001b[0m\u001b[0mravel\u001b[0m\u001b[1;33m(\u001b[0m\u001b[1;33m)\u001b[0m   \u001b[1;31m#mantiene un riferimento all'array\u001b[0m\u001b[1;33m\u001b[0m\u001b[1;33m\u001b[0m\u001b[0m\n\u001b[0;32m     10\u001b[0m \u001b[1;33m\u001b[0m\u001b[0m\n\u001b[1;32m---> 11\u001b[1;33m \u001b[0marra1\u001b[0m\u001b[1;33m[\u001b[0m\u001b[1;36m1\u001b[0m\u001b[1;33m]\u001b[0m \u001b[1;33m=\u001b[0m \u001b[1;36m0\u001b[0m\u001b[1;33m\u001b[0m\u001b[1;33m\u001b[0m\u001b[0m\n\u001b[0m\u001b[0;32m     12\u001b[0m \u001b[0marray2\u001b[0m\u001b[1;33m[\u001b[0m\u001b[1;36m0\u001b[0m\u001b[1;33m]\u001b[0m \u001b[1;33m=\u001b[0m \u001b[1;36m0\u001b[0m\u001b[1;33m\u001b[0m\u001b[1;33m\u001b[0m\u001b[0m\n\u001b[0;32m     13\u001b[0m \u001b[0mprint\u001b[0m\u001b[1;33m(\u001b[0m\u001b[0marray1\u001b[0m\u001b[1;33m)\u001b[0m\u001b[1;33m;\u001b[0m \u001b[0mprint\u001b[0m\u001b[1;33m(\u001b[0m\u001b[0marray2\u001b[0m\u001b[1;33m)\u001b[0m\u001b[1;33m;\u001b[0m\u001b[1;33m\u001b[0m\u001b[1;33m\u001b[0m\u001b[0m\n",
      "\u001b[1;31mNameError\u001b[0m: name 'arra1' is not defined"
     ]
    }
   ],
   "source": [
    "ndarray = np.array([[[1,2],[10,20],[100,200]]])\n",
    "print(ndarray)\n",
    "#dimensione di 3\n",
    "#elementi totali 6\n",
    "#elementi per ogni dimensione [1,3,2]\n",
    "#tipo = ndarray.dtype\n",
    "\n",
    "array1 = ndarray.flatten() #fa una copra corrispondente ad una dimensione\n",
    "array2 = ndarray.ravel()   #mantiene un riferimento all'array\n",
    "\n",
    "arra1[1] = 0\n",
    "array2[0] = 0\n",
    "print(array1); print(array2);\n",
    "print(ndarray)\n",
    "\n",
    "#possiamo modificare le dimensioni purchè siano compatibili\n",
    "\n",
    "array1.shape(3,2)      #modifica la struttura (3 righe e due colonne)\n",
    "print(array1)\n",
    "mat = ndarray.reshape(2,-1)          #con -1 calcola in automatico il numero di elementi per riga\n",
    "print(mat)\n",
    "\n",
    "#se devo cambiare le righe con le colonne uso la funziona transpose()\n",
    "\n",
    "m = np.arange(24)             #vettore con elementi da 0 a 23\n",
    "m = m.reshape(4,6)            #avrà 4 righe e sei colonne\n",
    "\n",
    "print(m)\n",
    "\n",
    "#se voglio fare uno shift uso il metodo roll(): fa uno shift a destra a partire dall'indici indicato\n",
    "\n",
    "print(np.roll(m,2))       #dall'indice 2 inizia a dare lo shift\n",
    "print(np.roll(m, 1, axis = 0))    #shift delle intere righe \n",
    "print(np.roll(m, -1, axis = 1))   #shift per intere colonne\n",
    "\n"
   ]
  },
  {
   "cell_type": "code",
   "execution_count": null,
   "metadata": {},
   "outputs": [],
   "source": [
    "a = np.arange(12)\n",
    "a = a.reshape(4,-1)\n",
    "\n",
    "print(a)\n",
    "\n",
    "ls = a.tolist()     #restituisce la lista python corrispondente all'array\n",
    "\n",
    "a[1, 2] = -1\n",
    "ls[1][2] = -2      #anche in numpy si può utilizzare questa funzione, ma è meno efficiente\n",
    "print(a[1])\n",
    "print(ls[1])"
   ]
  },
  {
   "cell_type": "markdown",
   "metadata": {},
   "source": []
  }
 ],
 "metadata": {
  "kernelspec": {
   "display_name": "Python 3",
   "language": "python",
   "name": "python3"
  },
  "language_info": {
   "codemirror_mode": {
    "name": "ipython",
    "version": 3
   },
   "file_extension": ".py",
   "mimetype": "text/x-python",
   "name": "python",
   "nbconvert_exporter": "python",
   "pygments_lexer": "ipython3",
   "version": "3.8.5"
  }
 },
 "nbformat": 4,
 "nbformat_minor": 4
}
