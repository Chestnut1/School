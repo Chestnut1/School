{
 "cells": [
  {
   "cell_type": "code",
   "execution_count": 4,
   "metadata": {},
   "outputs": [
    {
     "name": "stdout",
     "output_type": "stream",
     "text": [
      "[1.43085042 1.41931427 1.46370073 1.47718978 1.4359351  1.44007039]\n",
      "[ 4.44985389  8.35221405  9.22821028  4.81887028 11.75904687  7.82563847]\n",
      "[11.32016014  9.99066013 18.0687265  17.00998576  4.38026471 15.0885404 ]\n"
     ]
    }
   ],
   "source": [
    "import numpy as np\n",
    "\n",
    "giorni = 6\n",
    "\n",
    "\n",
    "a1 = np.random.normal(1.45,0.02,giorni)\n",
    "a2 = np.random.normal(7.33,2.3,giorni)\n",
    "a3 = np.random.normal(12.24,4.57,giorni)\n",
    "\n",
    "print(a1)\n",
    "print(a2)\n",
    "print(a3)"
   ]
  },
  {
   "cell_type": "code",
   "execution_count": 21,
   "metadata": {},
   "outputs": [
    {
     "name": "stdout",
     "output_type": "stream",
     "text": [
      "[0.         1.43085042 1.41931427 1.46370073 1.47718978 1.4359351 ]\n",
      "[ 0.          4.44985389  8.35221405  9.22821028  4.81887028 11.75904687]\n",
      "[ 0.         11.32016014  9.99066013 18.0687265  17.00998576  4.38026471]\n"
     ]
    }
   ],
   "source": [
    "a1r = np.roll(a1,1)\n",
    "a1r[0] = 0\n",
    "a2r = np.roll(a2,1)\n",
    "a2r[0] = 0\n",
    "a3r = np.roll(a3,1)\n",
    "a3r[0] = 0\n",
    "\n",
    "print(a1r)\n",
    "print(a2r)\n",
    "print(a3r)"
   ]
  },
  {
   "cell_type": "code",
   "execution_count": 50,
   "metadata": {},
   "outputs": [
    {
     "name": "stdout",
     "output_type": "stream",
     "text": [
      "[100.          -0.81279758   3.03248204   0.91315635  -2.87301818\n",
      "   0.28715849]\n",
      "[100.          46.72246354   9.49259071 -91.50152919  59.01989048\n",
      " -50.26309884]\n",
      "[ 100.          -13.30742898   44.70744723   -6.22423058 -288.33236982\n",
      "   70.96959285]\n",
      "70.96959284914779\n",
      "-288.3323698245157\n",
      "(array([2], dtype=int64),)\n",
      "(array([2], dtype=int64),)\n"
     ]
    }
   ],
   "source": [
    "diff1 = ((a1 - a1r)*100)/a1\n",
    "diff2 = ((a2 - a2r)*100)/a2\n",
    "diff3 = ((a3 - a3r)*100)/a3\n",
    "\n",
    "maxs = np.array([np.amax(diff1[1:]),np.amax(diff2[1:]),np.amax(diff3[1:])])\n",
    "mins = np.array([np.amin(diff1[1:]),np.amin(diff2[1:]),np.amin(diff3[1:])])\n",
    "\n",
    "print(diff1)\n",
    "print(diff2)\n",
    "print(diff3)\n",
    "\n",
    "print(np.amax(maxs))\n",
    "print(np.amin(mins))\n",
    "print(np.where(maxs == np.amax(maxs)))\n",
    "\n",
    "print(np.where(mins == np.amin(mins)))\n"
   ]
  },
  {
   "cell_type": "code",
   "execution_count": null,
   "metadata": {},
   "outputs": [],
   "source": []
  }
 ],
 "metadata": {
  "kernelspec": {
   "display_name": "Python 3",
   "language": "python",
   "name": "python3"
  },
  "language_info": {
   "codemirror_mode": {
    "name": "ipython",
    "version": 3
   },
   "file_extension": ".py",
   "mimetype": "text/x-python",
   "name": "python",
   "nbconvert_exporter": "python",
   "pygments_lexer": "ipython3",
   "version": "3.8.5"
  }
 },
 "nbformat": 4,
 "nbformat_minor": 4
}
