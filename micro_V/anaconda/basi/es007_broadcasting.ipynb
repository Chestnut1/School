{
 "cells": [
  {
   "cell_type": "code",
   "execution_count": 2,
   "metadata": {},
   "outputs": [
    {
     "name": "stdout",
     "output_type": "stream",
     "text": [
      "a1\n",
      " [[ 0  1  2  3]\n",
      " [ 4  5  6  7]\n",
      " [ 8  9 10 11]]\n",
      "a2\n",
      " [[ 0 10 20 30]]\n",
      "a3\n",
      " [[ 0]\n",
      " [10]\n",
      " [20]]\n",
      "----------------------------------\n",
      "shape(3,4) + scalare:\n",
      " [[10 11 12 13]\n",
      " [14 15 16 17]\n",
      " [18 19 20 21]]\n",
      "shape(3,4) + shape(1,4):\n",
      " [[ 0 11 22 33]\n",
      " [ 4 15 26 37]\n",
      " [ 8 19 30 41]]\n",
      "shape(3,4) + shape(3,1):\n",
      " [[ 0  1  2  3]\n",
      " [14 15 16 17]\n",
      " [28 29 30 31]]\n",
      "shape(1,4) + shape(3,1):\n",
      " [[ 0 10 20 30]\n",
      " [10 20 30 40]\n",
      " [20 30 40 50]]\n"
     ]
    }
   ],
   "source": [
    "import numpy as np\n",
    "\n",
    "a1 = np.arange(12).reshape(3,4)\n",
    "a2 = np.array([[0,10,20,30]])   # shape = (1,4)\n",
    "a3 = np.array([[0],[10],[20]])  # shape = (3,1)\n",
    "print(\"a1\\n\", a1)\n",
    "print(\"a2\\n\", a2)\n",
    "print(\"a3\\n\", a3)\n",
    "print(\"----------------------------------\")\n",
    "print(\"shape(3,4) + scalare:\\n\", a1 + 10)\n",
    "print(\"shape(3,4) + shape(1,4):\\n\", a1 + a2)\n",
    "print(\"shape(3,4) + shape(3,1):\\n\", a1 + a3)\n",
    "print(\"shape(1,4) + shape(3,1):\\n\", a2 + a3)\n",
    "\n",
    "\"\"\"\n",
    "\n",
    "\n",
    "Pertanto possiamo dire che due array sono compatibili per il broadcasting se:\n",
    "\n",
    "    hanno la stessa forma\n",
    "    hanno lo stesso numero di dimensioni e la 'lunghezza' di ogni dimensione o è uguale o è 1\n",
    "    hanno un numero diverso di dimensioni, ma l'array che ne ha meno soddisfa la condizione precedente aggiungendo sufficienti dimensione di lunghezza 1 a sinistra dello shape di partenza\n",
    "\n",
    "Quando il broadcasting è possibile l'array che ha una dimensione = 1, viene modificato in modo che abbia forma compatibile con l'altro e i suoi valori vengono ripetuti lungo quella dimensione e usati per i calcoli. La dimensione dell'array risultato è la maggiore tra le dimensioni degli array di partenza in ciascun asse.\n",
    "\n",
    "\"\"\""
   ]
  },
  {
   "cell_type": "code",
   "execution_count": null,
   "metadata": {},
   "outputs": [],
   "source": []
  }
 ],
 "metadata": {
  "kernelspec": {
   "display_name": "Python 3",
   "language": "python",
   "name": "python3"
  },
  "language_info": {
   "codemirror_mode": {
    "name": "ipython",
    "version": 3
   },
   "file_extension": ".py",
   "mimetype": "text/x-python",
   "name": "python",
   "nbconvert_exporter": "python",
   "pygments_lexer": "ipython3",
   "version": "3.8.5"
  }
 },
 "nbformat": 4,
 "nbformat_minor": 4
}
