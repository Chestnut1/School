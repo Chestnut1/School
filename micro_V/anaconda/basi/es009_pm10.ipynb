{
 "cells": [
  {
   "cell_type": "markdown",
   "metadata": {},
   "source": [
    "In riferimento all'esercizio della centralina ambientale montata nella \n",
    "scuola:\n",
    "\n",
    "-ripulire i dati dai valori errati e calcolare media, massimo e minimo.\n",
    "\n",
    "-Individuare se ci sono due dati errati in finestre di al massimo 5 \n",
    " misurazioni e consecutive e in tal caso segnalare che la centralina deve\n",
    " essere mandata in riparazione"
   ]
  },
  {
   "cell_type": "code",
   "execution_count": 1,
   "metadata": {},
   "outputs": [],
   "source": [
    "import numpy as np"
   ]
  },
  {
   "cell_type": "code",
   "execution_count": null,
   "metadata": {},
   "outputs": [],
   "source": []
  }
 ],
 "metadata": {
  "kernelspec": {
   "display_name": "Python 3",
   "language": "python",
   "name": "python3"
  },
  "language_info": {
   "codemirror_mode": {
    "name": "ipython",
    "version": 3
   },
   "file_extension": ".py",
   "mimetype": "text/x-python",
   "name": "python",
   "nbconvert_exporter": "python",
   "pygments_lexer": "ipython3",
   "version": "3.8.5"
  }
 },
 "nbformat": 4,
 "nbformat_minor": 4
}
