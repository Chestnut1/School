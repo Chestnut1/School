{
 "cells": [
  {
   "cell_type": "code",
   "execution_count": 1,
   "metadata": {
    "scrolled": true
   },
   "outputs": [
    {
     "name": "stdout",
     "output_type": "stream",
     "text": [
      "8\n"
     ]
    }
   ],
   "source": [
    "import math\n",
    "\n",
    "print(int(math.pow(2,3)))"
   ]
  },
  {
   "cell_type": "markdown",
   "metadata": {},
   "source": [
    "[MARKDOWN]\n",
    "\n",
    "Usa la stessa sintassi di github. Simile ad html.\n",
    "\n",
    "quindi teoricamente posso scriver quel che mi pare e piace! :-)\n",
    "\n",
    "# Formattazione del testo con Markdown\n",
    "\n",
    "L'efffeto dei comandi di formattazione si applica a tutte le righe o al testo compreso tra i marcatori.\n",
    "\n",
    "## Titoli\n",
    "\n",
    "Per i titoli mettere # header1, ## header2 e così via fino a header6\n",
    "\n",
    "\n",
    "Doppio invio per separare i paragrafi. digitare due spazi alla fine della riga  \n",
    "per fare andare a capo senza riga vuota\n",
    "\n",
    "\n",
    "Usare * o _ per il *corsivo*, ** per il **grassetto**, * * * oppure _ _ _ per il ***grassetto corsivo***, doppia tilde per il ~~barrato~~\n",
    "\n",
    "\n"
   ]
  },
  {
   "cell_type": "markdown",
   "metadata": {},
   "source": [
    "**Ricordati di separare le varie parti con una riga vuota, altrimenti potrebbero non formattarsi correttamente**\n",
    "\n",
    "## Le liste\n",
    "## Numerata\n",
    "\n",
    "Cominciare ogni riga con un numero (normalmente 1), cambierà il colore ed inizierà a formattare le righe\n",
    "\n",
    "2. Secondo\n",
    "2. Terzo \n",
    "\n",
    "### oppure\n",
    "\n",
    "1. Primo\n",
    "1. Secondo\n",
    "\n",
    "### strutture\n",
    "\n",
    "- spazio e poi -\n"
   ]
  },
  {
   "cell_type": "code",
   "execution_count": null,
   "metadata": {},
   "outputs": [],
   "source": []
  }
 ],
 "metadata": {
  "kernelspec": {
   "display_name": "Python 3",
   "language": "python",
   "name": "python3"
  },
  "language_info": {
   "codemirror_mode": {
    "name": "ipython",
    "version": 3
   },
   "file_extension": ".py",
   "mimetype": "text/x-python",
   "name": "python",
   "nbconvert_exporter": "python",
   "pygments_lexer": "ipython3",
   "version": "3.8.5"
  }
 },
 "nbformat": 4,
 "nbformat_minor": 4
}
