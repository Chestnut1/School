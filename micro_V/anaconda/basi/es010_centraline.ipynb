{
 "cells": [
  {
   "cell_type": "markdown",
   "metadata": {},
   "source": [
    "Sul territorio comunale sono installate tre centraline per la misurazione\n",
    "del livello di polveri sottili PM10 nell'aria. Talvolta le centraline \n",
    "vanno in uno stato di errore per cui il lamisurazione fallisce e riporta\n",
    "il valore 9999.9 all'interno dell'array delle misurazioni. Inoltre, per \n",
    "motivi sconosciuti, talvolta le centraline riportano il valore -1. \n",
    "Statisticamente si e' visto che il primo errore ha una frequenza dello \n",
    "0.2% mentre il secondo dello 0.1%\n",
    "\n",
    "-creare una matrice con 3 colonne e le righe contenenti i dati di tutte \n",
    " le centralien registrati in 24 ore (registrazione di un dato ogni minuto)\n",
    "\n",
    "-eliminare tutte le righe della matrice in cui vi sia almeno un errore"
   ]
  },
  {
   "cell_type": "code",
   "execution_count": 8,
   "metadata": {},
   "outputs": [],
   "source": [
    "import numpy as np\n",
    "from numpy import random"
   ]
  },
  {
   "cell_type": "code",
   "execution_count": 10,
   "metadata": {},
   "outputs": [
    {
     "name": "stdout",
     "output_type": "stream",
     "text": [
      "[15.44562775 13.02455643 16.40752261 ... 20.33090377 26.86083725\n",
      " 15.38228234]\n"
     ]
    }
   ],
   "source": [
    "CENTRALINE = 3\n",
    "ERR1_PERC = 0.1\n",
    "ERR2_perc = 0.2\n",
    "\n",
    "for i in range(CENTRALINE):\n",
    "    dati = np.random.normal(19, 5, 24*60)    # medio, varianza, lunghezza\n",
    "    indici = random.randint(100, size = int(((24*60)*0.1)/ 100))\n",
    "    dati[indici] = 999.9    #9999.9 da problemi di visualizzazioni :'(\n",
    "    \n",
    "print(dati)\n"
   ]
  },
  {
   "cell_type": "code",
   "execution_count": null,
   "metadata": {},
   "outputs": [],
   "source": []
  }
 ],
 "metadata": {
  "kernelspec": {
   "display_name": "Python 3",
   "language": "python",
   "name": "python3"
  },
  "language_info": {
   "codemirror_mode": {
    "name": "ipython",
    "version": 3
   },
   "file_extension": ".py",
   "mimetype": "text/x-python",
   "name": "python",
   "nbconvert_exporter": "python",
   "pygments_lexer": "ipython3",
   "version": "3.8.5"
  }
 },
 "nbformat": 4,
 "nbformat_minor": 4
}
