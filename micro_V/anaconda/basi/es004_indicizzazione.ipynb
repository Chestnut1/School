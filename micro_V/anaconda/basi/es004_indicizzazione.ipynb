{
 "cells": [
  {
   "cell_type": "markdown",
   "metadata": {},
   "source": [
    "# Esercizio 1:"
   ]
  },
  {
   "cell_type": "code",
   "execution_count": 9,
   "metadata": {},
   "outputs": [
    {
     "name": "stdout",
     "output_type": "stream",
     "text": [
      "[[1 0 1 0 1 0 1 0]\n",
      " [0 1 0 1 0 1 0 1]\n",
      " [1 0 1 0 1 0 1 0]\n",
      " [0 1 0 1 0 1 0 1]\n",
      " [1 0 1 0 1 0 1 0]\n",
      " [0 1 0 1 0 1 0 1]\n",
      " [1 0 1 0 1 0 1 0]\n",
      " [0 1 0 1 0 1 0 1]]\n"
     ]
    }
   ],
   "source": [
    "#disegnare una scacchiera 8x8 alternando 0 e 1 (la prima casella è 0)\n",
    "import numpy as np\n",
    "\n",
    "COLS = 8\n",
    "ROWS = 8\n",
    "\n",
    "matrix = np.arange(ROWS*COLS)\n",
    "\n",
    "matrix[matrix % 2 == 0] = 0\n",
    "matrix[matrix % 2 != 0] = 1\n",
    "\n",
    "matrix = matrix.reshape(8,-1)\n",
    "\n",
    "for index,line in enumerate(matrix):     #non so come trovare un metodo più veloce per alternare le caselle\n",
    "    if index % 2 == 0:\n",
    "        matrix[index] = np.roll(matrix[index],1) \n",
    "\n",
    "print(matrix)"
   ]
  },
  {
   "cell_type": "markdown",
   "metadata": {},
   "source": [
    "# Esercizio 4:\n"
   ]
  },
  {
   "cell_type": "code",
   "execution_count": 35,
   "metadata": {},
   "outputs": [
    {
     "name": "stdout",
     "output_type": "stream",
     "text": [
      "[  5.36765733  14.93130069  19.59967787  16.39835164  20.69469911\n",
      "  31.60938366  22.13237305  14.29776016 999.9         10.6915369\n",
      "  19.57518589  11.90696827  11.07700349  25.99429103 999.9\n",
      "  15.67566454 999.9        999.9         25.38844562 999.9\n",
      "  21.64230637  11.11701699  27.13983662  18.04266303  30.14976678\n",
      "  20.22323925  17.28916599  17.40354615 999.9         14.35786672\n",
      "  18.71039733  23.96650555  17.45363129  17.00626239  16.5412169\n",
      "   7.63522854  19.52223377  11.50977349 999.9         23.93493553\n",
      "  16.29583489  15.14475241  13.0330648   20.24641746  20.2932096\n",
      "  19.09945562  21.57339838  30.79335134  18.37500414  22.78252987\n",
      "  16.81575004  20.02044883  19.85930203 999.9        999.9\n",
      " 999.9         11.29100389  27.56319941  17.59671959  20.68907437\n",
      " 999.9         24.26326028   8.9085901   12.88702865  24.28354756\n",
      "  24.28495468 999.9        999.9         12.52571001  15.35050874\n",
      "  15.55926805  17.89376565  19.55130046  15.31524264  27.62799096\n",
      "  23.08627614  27.87142201  22.43373442  24.27526822  27.12547122\n",
      "  20.19951869  16.85221876  12.78481282 999.9         20.29705383\n",
      "  23.28743094  18.03850241  26.83561586 999.9        999.9\n",
      "  13.86578148  11.26602952  13.18585036  20.09562517 999.9\n",
      "  20.325026    33.14447199  15.78832564 999.9         20.92771732]\n"
     ]
    }
   ],
   "source": [
    "\"\"\"\n",
    "Nel parco vicino alla sucola e' stata installata una centralina per la \n",
    "misurazione del livello di polveri sottili PM10 nell'aria. \n",
    "Talvolta la centralina va in uno stato di errore per cui la misruazione \n",
    "delle PM10 fallisce ed il dato corrispondente e' di 9999.9. Creare un array \n",
    "di 1000 campioni che generino dei valori secondo una distribuzione normale \n",
    "con valore medio 19 e varianza 5 e supporre che la centralina sia andata \n",
    "in errore 20 volte.\n",
    "\"\"\"\n",
    "\n",
    "import numpy as np\n",
    "from numpy import random\n",
    "\n",
    "ERRORI = 20\n",
    "\n",
    "dati = np.random.normal(19, 5, 100)\n",
    "indici = random.randint(100, size = ERRORI)\n",
    "dati[indici] = 999.9    #9999.9 da problemi di visualizzazioni :'(\n",
    "\n",
    "print(dati)"
   ]
  },
  {
   "cell_type": "code",
   "execution_count": null,
   "metadata": {},
   "outputs": [],
   "source": []
  }
 ],
 "metadata": {
  "kernelspec": {
   "display_name": "Python 3",
   "language": "python",
   "name": "python3"
  },
  "language_info": {
   "codemirror_mode": {
    "name": "ipython",
    "version": 3
   },
   "file_extension": ".py",
   "mimetype": "text/x-python",
   "name": "python",
   "nbconvert_exporter": "python",
   "pygments_lexer": "ipython3",
   "version": "3.8.5"
  }
 },
 "nbformat": 4,
 "nbformat_minor": 4
}
