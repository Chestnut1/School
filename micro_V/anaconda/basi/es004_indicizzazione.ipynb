{
 "cells": [
  {
   "cell_type": "markdown",
   "metadata": {},
   "source": [
    "# Esercizio 1:"
   ]
  },
  {
   "cell_type": "code",
   "execution_count": 1,
   "metadata": {},
   "outputs": [
    {
     "name": "stdout",
     "output_type": "stream",
     "text": [
      "[[1 0 1 0 1 0 1 0]\n",
      " [0 1 0 1 0 1 0 1]\n",
      " [1 0 1 0 1 0 1 0]\n",
      " [0 1 0 1 0 1 0 1]\n",
      " [1 0 1 0 1 0 1 0]\n",
      " [0 1 0 1 0 1 0 1]\n",
      " [1 0 1 0 1 0 1 0]\n",
      " [0 1 0 1 0 1 0 1]]\n"
     ]
    }
   ],
   "source": [
    "#disegnare una scacchiera 8x8 alternando 0 e 1 (la prima casella è 0)\n",
    "import numpy as np\n",
    "\n",
    "COLS = 8\n",
    "ROWS = 8\n",
    "\n",
    "matrix = np.arange(ROWS*COLS)\n",
    "\n",
    "matrix[matrix % 2 == 0] = 0\n",
    "matrix[matrix % 2 != 0] = 1\n",
    "\n",
    "matrix = matrix.reshape(8,-1)\n",
    "\n",
    "for index,line in enumerate(matrix):     #non so come trovare un metodo più veloce per alternare le caselle\n",
    "    if index % 2 == 0:\n",
    "        matrix[index] = np.roll(matrix[index],1) \n",
    "\n",
    "print(matrix)"
   ]
  },
  {
   "cell_type": "markdown",
   "metadata": {},
   "source": [
    "# Esercizio 3:\n"
   ]
  },
  {
   "cell_type": "code",
   "execution_count": 1,
   "metadata": {},
   "outputs": [
    {
     "name": "stdout",
     "output_type": "stream",
     "text": [
      "[[1, 2, 3, 4, 5, 6, 7, 8, 9, 10, 11, 12, 13, 14, 15, 16, 17, 18], [19, 20, 21, 22, 23, 24, 25, 26, 27, 28, 29, 30, 31, 32, 33, 34, 35, 36], [37, 38, 39, 40, 41, 42, 43, 44, 45, 46, 47, 48, 49, 50, 51, 52, 53, 54], [55, 56, 57, 58, 59, 60, 61, 62, 63, 64, 65, 66, 67, 68, 69, 70, 71, 72], [73, 74, 75, 76, 77, 78, 79, 80, 81, 82, 83, 84, 85, 86, 87, 88, 89, 90]]\n"
     ]
    }
   ],
   "source": [
    "\"\"\"\n",
    "In una sala cinematigrafica si devono indicare quali posti a \n",
    "sedere possono essere usati con sicurezza secondo le regole \n",
    "anticovid. GL iaddetti hanno constato che per ogni fila, i posti\n",
    "alternati sono distanti piu' di un metro, e le file distano un metro.\n",
    "Indicare i posti usabili sapendo che ci sono 100 posti numerati a \n",
    "partire da 1 e ogni fila ha 18 posti (il posto 1 e' utilizzabile)\n",
    "\"\"\"\n",
    "\n",
    "import numpy as np\n",
    "\n",
    "POSTI_TOT =  90\n",
    "\n",
    "posti = np.arange(1,POSTI_TOT+1)\n",
    "posti = posti.reshape(-1,18)\n",
    "\n",
    "print(posti.tolist())"
   ]
  },
  {
   "cell_type": "markdown",
   "metadata": {},
   "source": [
    "# Esercizio 4"
   ]
  },
  {
   "cell_type": "code",
   "execution_count": 1,
   "metadata": {
    "scrolled": true
   },
   "outputs": [
    {
     "name": "stdout",
     "output_type": "stream",
     "text": [
      "[ 10.29403021 999.9         15.08772077   7.48103944  21.94097758\n",
      "  21.93687923  26.49371329  22.33218331 999.9         18.68122515\n",
      "  20.89502177  11.39702114  18.07672928  12.52320392  17.66336794\n",
      "  18.53328795 999.9        999.9         16.08094626  18.78007378\n",
      " 999.9         18.03999348  22.84030043  16.17098944  15.16314769\n",
      " 999.9         13.41915272  16.74931442   9.38669832  26.08247374\n",
      "  14.51408999  12.13987793  21.82642461 999.9        999.9\n",
      "  16.75506081  11.42983409  23.79183046  14.75968892  23.39788666\n",
      "  23.16980388  17.41235847  16.61418819 999.9         20.1241404\n",
      "  22.12014076  20.67549503 999.9         25.00031273  24.22363279\n",
      "  18.62999834  21.49115945  24.26441868  17.48113054  15.16066231\n",
      "  10.28075164  17.40600391  13.99240798  12.26560731 999.9\n",
      "  21.06281229  22.99550454 999.9         17.19545264   5.84717087\n",
      "  22.50680383  22.7410515   18.48594052  21.84586316  14.46078207\n",
      "  18.55989002  18.32218052  21.63167418  14.45187183  12.11803635\n",
      " 999.9         33.03725073 999.9         18.37703391  11.99089005\n",
      " 999.9         16.68121602  20.82124757  17.56267063  20.11734691\n",
      "  19.16354386  14.6294314  999.9         13.97243882 999.9\n",
      "  15.83853107  24.81079273  16.62492997  22.05230689  11.11626506\n",
      "  17.56035328  16.67171809  28.14002043 999.9        999.9       ]\n"
     ]
    }
   ],
   "source": [
    "\"\"\"\n",
    "Nel parco vicino alla sucola e' stata installata una centralina per la \n",
    "misurazione del livello di polveri sottili PM10 nell'aria. \n",
    "Talvolta la centralina va in uno stato di errore per cui la misruazione \n",
    "delle PM10 fallisce ed il dato corrispondente e' di 9999.9. Creare un array \n",
    "di 1000 campioni che generino dei valori secondo una distribuzione normale \n",
    "con valore medio 19 e varianza 5 e supporre che la centralina sia andata \n",
    "in errore 20 volte.\n",
    "\"\"\"\n",
    "\n",
    "import numpy as np\n",
    "from numpy import random\n",
    "\n",
    "ERRORI = 20\n",
    "\n",
    "dati = np.random.normal(19, 5, 100)\n",
    "indici = random.randint(100, size = ERRORI)\n",
    "dati[indici] = 999.9    #9999.9 da problemi di visualizzazioni :'(\n",
    "\n",
    "print(dati)"
   ]
  },
  {
   "cell_type": "code",
   "execution_count": null,
   "metadata": {},
   "outputs": [],
   "source": []
  }
 ],
 "metadata": {
  "kernelspec": {
   "display_name": "Python 3",
   "language": "python",
   "name": "python3"
  },
  "language_info": {
   "codemirror_mode": {
    "name": "ipython",
    "version": 3
   },
   "file_extension": ".py",
   "mimetype": "text/x-python",
   "name": "python",
   "nbconvert_exporter": "python",
   "pygments_lexer": "ipython3",
   "version": "3.8.5"
  }
 },
 "nbformat": 4,
 "nbformat_minor": 4
}
