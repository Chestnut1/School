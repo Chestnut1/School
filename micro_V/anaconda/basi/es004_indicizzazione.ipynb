{
 "cells": [
  {
   "cell_type": "markdown",
   "metadata": {},
   "source": [
    "# Esercizio 1:"
   ]
  },
  {
   "cell_type": "code",
   "execution_count": 9,
   "metadata": {},
   "outputs": [
    {
     "name": "stdout",
     "output_type": "stream",
     "text": [
      "[[1 0 1 0 1 0 1 0]\n",
      " [0 1 0 1 0 1 0 1]\n",
      " [1 0 1 0 1 0 1 0]\n",
      " [0 1 0 1 0 1 0 1]\n",
      " [1 0 1 0 1 0 1 0]\n",
      " [0 1 0 1 0 1 0 1]\n",
      " [1 0 1 0 1 0 1 0]\n",
      " [0 1 0 1 0 1 0 1]]\n"
     ]
    }
   ],
   "source": [
    "#disegnare una scacchiera 8x8 alternando 0 e 1 (la prima casella è 0)\n",
    "import numpy as np\n",
    "\n",
    "COLS = 8\n",
    "ROWS = 8\n",
    "\n",
    "matrix = np.arange(ROWS*COLS)\n",
    "\n",
    "matrix[matrix % 2 == 0] = 0\n",
    "matrix[matrix % 2 != 0] = 1\n",
    "\n",
    "matrix = matrix.reshape(8,-1)\n",
    "\n",
    "for index,line in enumerate(matrix):     #non so come trovare un metodo più veloce per alternare le caselle\n",
    "    if index % 2 == 0:\n",
    "        matrix[index] = np.roll(matrix[index],1) \n",
    "\n",
    "print(matrix)"
   ]
  },
  {
   "cell_type": "markdown",
   "metadata": {},
   "source": [
    "#### Gli altri esercizi non sono riuscito a farli\n"
   ]
  },
  {
   "cell_type": "code",
   "execution_count": 1,
   "metadata": {},
   "outputs": [
    {
     "name": "stdout",
     "output_type": "stream",
     "text": [
      "60\n"
     ]
    }
   ],
   "source": [
    "def x(n):\n",
    "    if n <= 0:\n",
    "        return 0\n",
    "    else:\n",
    "        return 1 + y(n-2)\n",
    "    \n",
    "def y(n):\n",
    "    if n <= 0:\n",
    "        return 0\n",
    "    else:\n",
    "        return 2 + x(n-3)\n",
    "    \n",
    "print(y(100))"
   ]
  },
  {
   "cell_type": "code",
   "execution_count": null,
   "metadata": {},
   "outputs": [],
   "source": []
  }
 ],
 "metadata": {
  "kernelspec": {
   "display_name": "Python 3",
   "language": "python",
   "name": "python3"
  },
  "language_info": {
   "codemirror_mode": {
    "name": "ipython",
    "version": 3
   },
   "file_extension": ".py",
   "mimetype": "text/x-python",
   "name": "python",
   "nbconvert_exporter": "python",
   "pygments_lexer": "ipython3",
   "version": "3.8.5"
  }
 },
 "nbformat": 4,
 "nbformat_minor": 4
}
