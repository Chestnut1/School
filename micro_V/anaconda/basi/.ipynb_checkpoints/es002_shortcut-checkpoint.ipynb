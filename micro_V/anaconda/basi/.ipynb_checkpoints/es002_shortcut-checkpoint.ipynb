{
 "cells": [
  {
   "cell_type": "markdown",
   "metadata": {},
   "source": [
    "# Shortcut\n",
    "\n",
    "[![An old rock in the desert](https://upload.wikimedia.org/wikipedia/commons/3/38/Jupyter_logo.svg \"Jupyter\")](https://jupyter-notebook.readthedocs.io/en/stable/)\n",
    "\n",
    "\n",
    "\n",
    "## Le scorcatoie utili in command mode\n",
    "\n",
    "Per poterle usare entrare in *command mode* con  <mark style=\"background-color: #e6e6e6\">**ESC**</mark> (bordo blu).\n",
    "\n",
    "- <mark style=\"background-color: #e6e6e6\">**INVIO**</mark> entra in *editing* mode\n",
    "- <mark style=\"background-color: #e6e6e6\">**a**</mark>inserisce una nuova cella sopra (above) la corrente\n",
    "- <mark style=\"background-color: #e6e6e6\">**b**</mark> inserisce una nuova cella sotto (below) la corrente\n",
    "- <mark style=\"background-color: #e6e6e6\">**CTRL + INVIO**</mark> esegue la cella corrente e resta in essa\n",
    "- <mark style=\"background-color: #e6e6e6\">**SHIFT + INVIO**</mark> esegue la cella corrente e si sposta sulla successiva (se non c'è la crea)\n",
    "- <mark style=\"background-color: #e6e6e6\">**ALT + INVIO**</mark> esegue la cella corrente e ne crea una nuova sotto di essa \n",
    "- <mark style=\"background-color: #e6e6e6\">**m**</mark> Trasforma la cella corrente in tipo *Markdown*\n",
    "- <mark style=\"background-color: #e6e6e6\">**y**</mark> trasforma la cella corrente in tipo *Code*\n",
    "- <mark style=\"background-color: #e6e6e6\">**d d**</mark> elimina la cella corrente\n",
    "- <mark style=\"background-color: #e6e6e6\">**x c v**</mark> taglia o copia la cella corrente e la incolla nella cella sotto (<mark style=\"background-color: #e6e6e6\">**SHIFT + v**</mark> la incolla sopra)\n",
    "- <mark style=\"background-color: #e6e6e6\">**z**</mark> annulla l'ultima operazione\n",
    "- <mark style=\"background-color: #e6e6e6\">**FRECCIA SU O GIU'**</mark> per spostarsi tra le celle\n",
    "\n",
    "## Le scorciatoie utili in editing mode \n",
    "Le seguenti sono utili nelle celle di tipo *Code*\n",
    "- <mark style=\"background-color: #e6e6e6\">**SHIFT + TAB**</mark> su un oggetto del codice mostra la documentazione\n",
    "- <mark style=\"background-color: #e6e6e6\">**CTRL + SHIFT + -**</mark> divide la cella corrente nel punto in cui si trova il cursore\n",
    "- <mark style=\"background-color: #e6e6e6\">**ESC + F**</mark> apre la finestra di tiavolo *Trova e sostituisci*\n",
    "\n",
    "## Altre scorciatoie utili\n",
    "|Modalità     | Menu   | Shortcut | Azione                             |\n",
    "|:----------- | :----- | :------: | :--------------------------------- |\n",
    "|Indifferente | File   | CTRL + S | Salva documento                    |\n",
    "|Command mode | Kernel | i i      | Interrompe l'esecuzione            |\n",
    "|Command mode | Kernel | 0 0      | Interrompe l'esecuzione            |\n",
    "|Command mode | Kernel | h        | Visualizza l'elenco delle shortcut |\n"
   ]
  }
 ],
 "metadata": {
  "kernelspec": {
   "display_name": "Python 3",
   "language": "python",
   "name": "python3"
  },
  "language_info": {
   "codemirror_mode": {
    "name": "ipython",
    "version": 3
   },
   "file_extension": ".py",
   "mimetype": "text/x-python",
   "name": "python",
   "nbconvert_exporter": "python",
   "pygments_lexer": "ipython3",
   "version": "3.8.5"
  }
 },
 "nbformat": 4,
 "nbformat_minor": 4
}
