{
 "cells": [
  {
   "cell_type": "code",
   "execution_count": 9,
   "metadata": {},
   "outputs": [
    {
     "name": "stdout",
     "output_type": "stream",
     "text": [
      "[ 368.64 1866.24 1505.44  948.64   67.24  316.84   17.64 2007.04  635.04\n",
      " 1036.84]\n",
      "876.9599999999998\n"
     ]
    }
   ],
   "source": [
    "#calcolare la varianza, la somma dei quadrati di ogni elemento\n",
    "#con il valore medio, tutti fatto la media diviso il numero degli elementi\n",
    "\n",
    "import numpy as np\n",
    "from numpy import random\n",
    "\n",
    "a = np.random.randint(100, size = 10)\n",
    "err_quad = (a - a.mean()) **2          #calcoliamo l'errore quadratico\n",
    "varianza = err_quad.mean()\n",
    "print(err_quad)\n",
    "print(varianza)"
   ]
  },
  {
   "cell_type": "code",
   "execution_count": null,
   "metadata": {},
   "outputs": [],
   "source": []
  }
 ],
 "metadata": {
  "kernelspec": {
   "display_name": "Python 3",
   "language": "python",
   "name": "python3"
  },
  "language_info": {
   "codemirror_mode": {
    "name": "ipython",
    "version": 3
   },
   "file_extension": ".py",
   "mimetype": "text/x-python",
   "name": "python",
   "nbconvert_exporter": "python",
   "pygments_lexer": "ipython3",
   "version": "3.8.5"
  }
 },
 "nbformat": 4,
 "nbformat_minor": 4
}
