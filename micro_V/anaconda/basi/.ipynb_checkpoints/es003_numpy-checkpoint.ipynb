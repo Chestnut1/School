{
 "cells": [
  {
   "cell_type": "markdown",
   "metadata": {},
   "source": [
    "# NUMPY\n",
    "\n",
    "Numpy è una libreria che serve per gestire i vettori in modo efficiente. Possono essere:\n",
    "- **MONODIMENSIONALI** : come un vettore\n",
    "\n",
    "- **BIDIMENSIONALE** : come una matrice\n",
    "\n",
    "- **MONODIMENSIONALI** : come i *tensori*\n",
    "\n",
    "e così via\n",
    "\n",
    "in mumpy si parla di ND-array _Multi Dimensional Array_\n",
    "\n",
    "Ogni dimensione è un **ASSE**.\n",
    "\n",
    "es = [[[1,2],[3,4],[4,5]], [[6,7],[8,9],[10,10]]] ha **forma = 2,3,2**. La **forma** indica in numero di elementi per dimensione.\n",
    "\n",
    "> Numpy è necessario perchè in python le liste occupano uno sfracco di memoria, e sono inefficienti. Devo memorizzare troppe \n",
    "> infromazioni. Gli array di Numpy invece sono a dimensione fissa e devono essere tutti dello stesso tipo.\n",
    "\n",
    "Array di numpy:\n",
    "- sono immutabili\n",
    "- devono avere lo stesso tipo\n",
    "\n",
    "Tipi di Numpy:\n",
    "- **bool**\n",
    "- **int** \n",
    "- **uint**: (unsigned int), quelli senza segno\n",
    "- **float**\n",
    "- **datetime64** data e ora a partire dal 1-1-1970\n",
    "- **string**\n",
    "- **object**"
   ]
  },
  {
   "cell_type": "code",
   "execution_count": 9,
   "metadata": {},
   "outputs": [
    {
     "name": "stdout",
     "output_type": "stream",
     "text": [
      "[1 2 3]\n",
      "[1. 2. 3.]\n",
      "[0. 1. 2. 3. 4. 5. 6. 7. 8. 9.]\n",
      "[4 6 8]\n",
      "[ 0.   2.5  5.   7.5 10. ]\n"
     ]
    }
   ],
   "source": [
    "import numpy as np\n",
    "\n",
    "a1 = np.array((1,2,3))           #array da tupla\n",
    "a2 = np.array([1,2,3], float)    #array da lista con specifica del tipo\n",
    "a3 = np.arange(10, dtype=float)  #crea numeri [0,9), dtype specifica il tipo\n",
    "a4 = np.arange(4,10,2)           #crea numeri [4,10), con passo di 2\n",
    "a5 = np.linspace(0,10,5)         #crea numeri da 0 a 10, con numeri equamente distanti l'uno dall'altro\n",
    "\n",
    "print(a1)\n",
    "print(a2)\n",
    "print(a3)\n",
    "print(a4)\n",
    "print(a5)"
   ]
  },
  {
   "cell_type": "code",
   "execution_count": 11,
   "metadata": {},
   "outputs": [
    {
     "ename": "TypeError",
     "evalue": "Cannot interpret '3' as a data type",
     "output_type": "error",
     "traceback": [
      "\u001b[1;31m---------------------------------------------------------------------------\u001b[0m",
      "\u001b[1;31mTypeError\u001b[0m                                 Traceback (most recent call last)",
      "\u001b[1;32m<ipython-input-11-b8eaa5d8e080>\u001b[0m in \u001b[0;36m<module>\u001b[1;34m\u001b[0m\n\u001b[0;32m      1\u001b[0m \u001b[0ma6\u001b[0m \u001b[1;33m=\u001b[0m \u001b[0mnp\u001b[0m\u001b[1;33m.\u001b[0m\u001b[0mzeros\u001b[0m\u001b[1;33m(\u001b[0m\u001b[1;36m5\u001b[0m\u001b[1;33m,\u001b[0m \u001b[0mdtype\u001b[0m \u001b[1;33m=\u001b[0m \u001b[0mnp\u001b[0m\u001b[1;33m.\u001b[0m\u001b[0muint\u001b[0m\u001b[1;33m)\u001b[0m       \u001b[1;31m#array di 0 con specifica di tipo\u001b[0m\u001b[1;33m\u001b[0m\u001b[1;33m\u001b[0m\u001b[0m\n\u001b[0;32m      2\u001b[0m \u001b[0ma7\u001b[0m \u001b[1;33m=\u001b[0m \u001b[0mnp\u001b[0m\u001b[1;33m.\u001b[0m\u001b[0mones\u001b[0m\u001b[1;33m(\u001b[0m\u001b[1;36m5\u001b[0m\u001b[1;33m)\u001b[0m                          \u001b[1;31m#array di 1 con defaultfloat64\u001b[0m\u001b[1;33m\u001b[0m\u001b[1;33m\u001b[0m\u001b[0m\n\u001b[1;32m----> 3\u001b[1;33m \u001b[0ma8\u001b[0m \u001b[1;33m=\u001b[0m \u001b[0mnp\u001b[0m\u001b[1;33m.\u001b[0m\u001b[0mzeros\u001b[0m\u001b[1;33m(\u001b[0m\u001b[1;36m2\u001b[0m\u001b[1;33m,\u001b[0m\u001b[1;36m3\u001b[0m\u001b[1;33m)\u001b[0m                      \u001b[1;31m#array di 0 con specifica di tipo\u001b[0m\u001b[1;33m\u001b[0m\u001b[1;33m\u001b[0m\u001b[0m\n\u001b[0m\u001b[0;32m      4\u001b[0m \u001b[1;33m\u001b[0m\u001b[0m\n\u001b[0;32m      5\u001b[0m \u001b[0mprint\u001b[0m\u001b[1;33m(\u001b[0m\u001b[0ma6\u001b[0m\u001b[1;33m)\u001b[0m\u001b[1;33m\u001b[0m\u001b[1;33m\u001b[0m\u001b[0m\n",
      "\u001b[1;31mTypeError\u001b[0m: Cannot interpret '3' as a data type"
     ]
    }
   ],
   "source": [
    "a6 = np.zeros(5, dtype = np.uint)       #array di 0 con specifica di tipo\n",
    "a7 = np.ones(5)                          #array di 1 con defaultfloat64\n",
    "a8 = np.zeros(2,3)                      #array di 0 con specifica di tipo\n",
    "\n",
    "print(a6)\n",
    "print(a7)\n",
    "print(a8)\n",
    "\n",
    "a8.fill(3)\n",
    "\n",
    "print(a8)"
   ]
  },
  {
   "cell_type": "code",
   "execution_count": null,
   "metadata": {},
   "outputs": [],
   "source": [
    "mat1 = np.rand(2,3)                         #matrice 2x3 di valori casuali reali [0,1]\n",
    "mat2 = np.randn(2,3)                        #matrice 2x3 di valori casuali reali [-1,1]\n",
    "mat3 = np.random.randint(1,7, size = (2,3))\n",
    "\n",
    "print(mat1)\n",
    "print(mat2)\n",
    "print(mat3)"
   ]
  },
  {
   "cell_type": "markdown",
   "metadata": {},
   "source": []
  }
 ],
 "metadata": {
  "kernelspec": {
   "display_name": "Python 3",
   "language": "python",
   "name": "python3"
  },
  "language_info": {
   "codemirror_mode": {
    "name": "ipython",
    "version": 3
   },
   "file_extension": ".py",
   "mimetype": "text/x-python",
   "name": "python",
   "nbconvert_exporter": "python",
   "pygments_lexer": "ipython3",
   "version": "3.8.5"
  }
 },
 "nbformat": 4,
 "nbformat_minor": 4
}
